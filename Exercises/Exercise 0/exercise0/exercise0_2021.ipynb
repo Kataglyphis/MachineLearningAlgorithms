{
 "cells": [
  {
   "cell_type": "markdown",
   "id": "c322ddcb",
   "metadata": {},
   "source": [
    "# Exercise Organization\n",
    "**Philipp Becker** (philipp.becker@kit.edu)"
   ]
  },
  {
   "cell_type": "markdown",
   "id": "74942101",
   "metadata": {},
   "source": [
    "## General Information \n",
    "- 6 Exercises in total (each 20pt)\n",
    "- Will be published bi-weekly, 2 weeks to work on each. \n",
    "- One grading per team\n",
    "- Bonus for $\\geq 60\\%$ of points (i.e. $\\geq 72pt$)\n",
    "\n",
    "## Exercise Format\n",
    "\n",
    "The exercise sheets come in form of Jupyter notebooks, which consist of different cells.\n",
    "These can be used for markdowns (like this cell) or Python code.\n",
    "Each cell can be run separately to present the text properly or to execute the code.\n",
    "It is also possible to use $\\LaTeX$ equations inside the markdown environment.\n",
    "For more information about how to install and start Jupyter, visit https://jupyter-notebook.readthedocs.io/en/stable/\n",
    "\n",
    "The given Jupyter notebook should be filled out by where it is marked.\n",
    "There are either pen and paper questions to answer or programming tasks to code.\n",
    "You should answer the programming tasks inside this notebook.\n",
    "The theoretical questions can be answered here as well using the Markdown cells.\n",
    "It is also possible to answer them by pen and paper and scan the solution as a pdf.\n",
    "\n",
    "## Hand In\n",
    "- Hand In is over Ilias. \n",
    "- Only one person per group needs to hand it in, but please still put the names of all three\n",
    "- Deadline just before the presentation of the solution \n",
    "\n",
    "Handing in Notebooks:\n",
    "\n",
    "For the submission of the exercise please follow these steps: \n",
    "\n",
    "1. Make sure that every cell is executed and the output is printed.\n",
    "2. Create a PdF of the Jupyter notebook via *File $\\rightarrow$ Download as $\\rightarrow$ PDF via LaTeX (.pdf)* or\n",
    " *File $\\rightarrow$ Print Preview $\\rightarrow$ Use your favorite PDF printing program*\n",
    "3. Zip your created PdF file and your original notebook, i.e. the .ipynb file,\n",
    "as well as your separate pen and paper solutions (if existent) together.\n",
    "4. Rename your zip file with the following naming convention: group_y_uxxxx_uxxxx_uxxxx\n",
    "where y is your group number, uxxxx is the kit user from each group member/\n",
    "5. Upload the zip file to Ilias. \n",
    "\n",
    "**Caveat**: Last year there were some issues with formulas in the exercises not \"compiling\" for some students. We try to make sure it works on our systems but, as there are differences between tex versions and different operating systems we can not always guarantee it. **If some of our equations do not work for you, just delete it from your hand-in** "
   ]
  },
  {
   "cell_type": "markdown",
   "id": "72af7206",
   "metadata": {},
   "source": [
    "# Intro to (Scientific) Python \n",
    "\n",
    "In Machine Learning we often have to deal with vectors, matrices, or higher-order tensors of data. For example, in my work, I often have to deal with sets of sequences of images, i.e., a 5 D tensor. So we need a library that allows easy and efficient manipulations of such structures. For the exercises, we are mostly going to use NumPy. (https://numpy.org/devdocs/user/quickstart.html) \n",
    "\n",
    "Note however that most of the basic principles introduce are also used by more recent Deep Learning Frameworks (e.g., TensorFlow, PyTorch, Jax) and also in other programming languages, serving a similar purpose (e.g., Matlab or Julia)."
   ]
  },
  {
   "cell_type": "markdown",
   "id": "577fc736",
   "metadata": {},
   "source": [
    "## Basic Operation on Matrices and Vectors in NumPy\n",
    "\n",
    "Create a matrix <br>\n",
    "\\begin{align*}A =\n",
    "\\begin{pmatrix}\n",
    "    1 & 2 & 3 \\\\\n",
    "    4 & 2 & 6 \\\\\n",
    "    7 & 3 & 8\n",
    "\\end{pmatrix}\n",
    "\\end{align*}\n",
    "and the vectors <br>\n",
    "\n",
    "\\begin{align*} v =\n",
    "\\begin{pmatrix}\n",
    "    3  \\\\\n",
    "    1  \\\\\n",
    "    2\n",
    "\\end{pmatrix}, ~w =\n",
    "\\begin{pmatrix}\n",
    "    1  \\\\\n",
    "    1  \\\\\n",
    "    2\n",
    "\\end{pmatrix}\n",
    "\\end{align*}\n",
    "\n"
   ]
  },
  {
   "cell_type": "code",
   "execution_count": null,
   "id": "c0a3d5c4",
   "metadata": {},
   "outputs": [],
   "source": [
    "from typing import Tuple\n",
    "# we will usually use the numpy library:\n",
    "import numpy as np\n",
    "\n",
    "# Let us create a matrix A and vectors v and w:\n",
    "A = np.array([[1,2,3], [4,2,6], [7, 3, 8]])\n",
    "v = np.array([3, 1, 2])\n",
    "w = np.array([1,1,2])\n",
    "print(\"Matrix A: (Shape {})\".format(A.shape))\n",
    "print(A)\n",
    "print(\"Vector v: (Shape {})\".format(v.shape))\n",
    "print(v)\n",
    "print(\"Vector w: (Shape {})\".format(w.shape))\n",
    "print(w)\n",
    "\n"
   ]
  },
  {
   "cell_type": "markdown",
   "id": "cd8d3cc6",
   "metadata": {},
   "source": [
    "Now that we have a matrix and some vectors, let's see what we can do with them "
   ]
  },
  {
   "cell_type": "code",
   "execution_count": null,
   "id": "f171cc1d",
   "metadata": {},
   "outputs": [],
   "source": [
    "# Accessing Elements \n",
    "print(\"Single Entry of Vector:\", w[2])\n",
    "print(\"Single Entry of Matrix:\", A[0, 1])\n",
    "print(\"Column of Matrix:\", A[:, 0])\n",
    "print(\"Row of Matrix:\", A[1, :])\n",
    "\n",
    "\n",
    "\n"
   ]
  },
  {
   "cell_type": "code",
   "execution_count": null,
   "id": "bc92febb",
   "metadata": {},
   "outputs": [],
   "source": [
    "# We can perform general element-wise operations...\n",
    "print(\"Addition:\", v + w)\n",
    "print(\"Multiplication:\", v * w)\n",
    "print(\"Square Root of Squared Vector:\", np.sqrt(v**2))\n",
    "print(\"Scalar times matrix: \\n\", 2*A)\n",
    "print(\"----------------------------\")"
   ]
  },
  {
   "cell_type": "code",
   "execution_count": null,
   "id": "b41f808a",
   "metadata": {},
   "outputs": [],
   "source": [
    "# And also matrix vector and matrix matrix products  \n",
    "print(\"Matrix Vector Product:\", A @ v)\n",
    "print(\"Matrix Matrix Product: \\n\", A @ A)"
   ]
  },
  {
   "cell_type": "markdown",
   "id": "80870a47",
   "metadata": {},
   "source": [
    "## Broadcasting \n",
    "\n",
    "First, print things out agian so we know what we are talking about "
   ]
  },
  {
   "cell_type": "code",
   "execution_count": null,
   "id": "33eafc11",
   "metadata": {},
   "outputs": [],
   "source": [
    "print(\"Matrix A: (Shape {})\".format(A.shape))\n",
    "print(A)\n",
    "print(\"Vector v: (Shape {})\".format(v.shape))\n",
    "print(v)\n",
    "print(\"Vector w: (Shape {})\".format(w.shape))\n",
    "print(w)"
   ]
  },
  {
   "cell_type": "markdown",
   "id": "53f4cd52",
   "metadata": {},
   "source": [
    "Let's try something weird and and subtract a vector from a matrix"
   ]
  },
  {
   "cell_type": "code",
   "execution_count": null,
   "id": "28023109",
   "metadata": {},
   "outputs": [],
   "source": [
    "print(A - v)"
   ]
  },
  {
   "cell_type": "markdown",
   "id": "b237827c",
   "metadata": {},
   "source": [
    "As we see, Python did not give us an error but did something - it subtracted the vector from each row of the matrix. This mechanism is called **broadcasting** and it will be your new best friend (you will sometimes also hate it)! \n",
    "\n",
    "In general, if the shapes of two numpy arrays do not match, but the non-matching dimension is \"1\" for either of the arrays the values along that dimension will be broadcasted. Here, numpy implicitly added a axis of size 1 to the vector \"v\" and broadcasted the values of \"v\" to all rows of A. This implicity broadcasting can be a bit counter intuitive and be a source for error.\n",
    "\n",
    "Yet, broadcasting is a very important tool to efficiently combine data in the ways you need to and you will see many applications througout the exercises. As a general tip: **never** use \"for-loops\" to manipulate your arrays but try to find a way using broadcasting - it is just much much faster. We might deduce points in the exercises for avoidalbe for-loops.\n",
    "\n",
    "So let's do the broadcasting more explicitly: "
   ]
  },
  {
   "cell_type": "code",
   "execution_count": null,
   "id": "2839cc73",
   "metadata": {},
   "outputs": [],
   "source": [
    "v1 = v[np.newaxis, :] # equivalent to v[None, :], np.reshape(v, (1, 3))\n",
    "print(\"Shape:\", v1.shape)\n",
    "print(\"Subtraction: \\n\", A - v1)"
   ]
  },
  {
   "cell_type": "markdown",
   "id": "c16d7a3c",
   "metadata": {},
   "source": [
    "If we want to subtract the vector from each column instead of each row, we need to broadcast along the other axis! "
   ]
  },
  {
   "cell_type": "code",
   "execution_count": null,
   "id": "a5aa0969",
   "metadata": {},
   "outputs": [],
   "source": [
    "v2 = v[:, np.newaxis] # equivalent to v[:, None], np.reshape(v, (3, 1))\n",
    "print(\"Shape:\", v2.shape)\n",
    "print(\"Subtraction: \\n\", A - v2)"
   ]
  },
  {
   "cell_type": "markdown",
   "id": "ab7bec28",
   "metadata": {},
   "source": [
    "**Tip**: Always broadcast explicitly. Implict broadcasting is a great source for really nasty bugs."
   ]
  },
  {
   "cell_type": "markdown",
   "id": "e8ddbee6",
   "metadata": {},
   "source": [
    "## Small Example: Gaussian Maximum Likelihood\n",
    "Lets begin by loading some data and look at the size. "
   ]
  },
  {
   "cell_type": "code",
   "execution_count": null,
   "id": "6dc59a3a",
   "metadata": {},
   "outputs": [],
   "source": [
    "samples = np.load(\"data.npz\")[\"samples\"]\n",
    "print(\"Shape:\", samples.shape)\n"
   ]
  },
  {
   "cell_type": "markdown",
   "id": "8f3bd432",
   "metadata": {},
   "source": [
    "So we have 150 two dimensional data points - let's plot them. We use matplotlib, argubly the most common python plotting library, for that. In the exercise most plotting functionality will be provided but we recommend you take a look at it anyway.  "
   ]
  },
  {
   "cell_type": "code",
   "execution_count": null,
   "id": "2a4a5ff1",
   "metadata": {},
   "outputs": [],
   "source": [
    "import matplotlib.pyplot as plt\n",
    "plt.scatter(samples[..., 0], samples[..., 1])"
   ]
  },
  {
   "cell_type": "markdown",
   "id": "fc16e3a8",
   "metadata": {},
   "source": [
    "That looks Gaussian distributed, lets try to fit a Gaussian on it. Recall that the maximum likelihood estimator for a Multivariate Gaussian Distribution is given by\n",
    "$$ \\mu = \\dfrac{1}{N} \\sum_{i}^N x_i \\quad \\quad \\Sigma = \\dfrac{1}{N} \\sum_{i}^N (x_i - \\mu) (x_i - \\mu)^T. $$\n",
    "(**Caveat**: The Maximum Likelihood estimator for Gaussian Distributions shouldn't be new to you but it will also be covered agian later in the lecture.)\n",
    "\n",
    "We will now look at a few implementations for that: "
   ]
  },
  {
   "cell_type": "code",
   "execution_count": null,
   "id": "5356456c",
   "metadata": {},
   "outputs": [],
   "source": [
    "def fit_ml_broadcasting(samples: np.ndarray) -> Tuple[np.ndarray, np.ndarray]:\n",
    "    \"\"\"\n",
    "    Gaussian Maximum Likelihood Estimator\n",
    "    :param samples: samples to fit on shape [num_samples x dimenson]\n",
    "    return: mean (shape: [dimension]) and covariance (shape: [dimension x dimension])\n",
    "    \"\"\"\n",
    "    \n",
    "    # get amount of samples\n",
    "    num_samples = samples.shape[0]\n",
    "    # mean\n",
    "    mean = 1 / num_samples * np.sum(samples, axis=0)\n",
    "    \n",
    "    # covariance\n",
    "    diff = samples - mean\n",
    "    print(\"Diff Shape\", diff.shape)\n",
    "    # Use Broadcasting to compute outer products \n",
    "    #                shape: [n x 1 x d]       shape: [n x d x 1]\n",
    "    outer_products = diff[:, np.newaxis, :] * diff[..., None]\n",
    "    print(\"Outer Products shape\", outer_products.shape)\n",
    "    cov = 1 / num_samples * np.sum(outer_products, axis=0)\n",
    "    \n",
    "    return mean, cov \n",
    "\n",
    "mean, cov = fit_ml_broadcasting(samples=samples)\n",
    "print(\"mean:\", mean, \"\\ncovariance: \\n\", cov)\n",
    "\n",
    "\n",
    "\n",
    "    "
   ]
  },
  {
   "cell_type": "code",
   "execution_count": null,
   "id": "d889d2c2",
   "metadata": {},
   "outputs": [],
   "source": [
    "def fit_ml_outer_prod(samples: np.ndarray) -> Tuple[np.ndarray, np.ndarray]:\n",
    "    \"\"\"\n",
    "    Gaussian Maximum Likelihood Estimator\n",
    "    :param samples: samples to fit on shape [num_samples x dimenson]\n",
    "    return: mean (shape: [dimension]) and covariance (shape: [dimension x dimension])\n",
    "    \"\"\"\n",
    "    \n",
    "    # get amount of samples\n",
    "    num_samples = samples.shape[0]\n",
    "    # mean\n",
    "    mean = 1 / num_samples * np.sum(samples, axis=0)\n",
    "    \n",
    "    # covariance\n",
    "    diff = samples - mean\n",
    "    \n",
    "    summed_outer_products = diff.T @ diff \n",
    "    \n",
    "    cov = 1 / num_samples * summed_outer_products\n",
    "    \n",
    "    return mean, cov \n",
    "\n",
    "mean, cov = fit_ml_outer_prod(samples=samples)\n",
    "print(\"mean:\", mean, \"\\ncovariance: \\n\", cov)\n",
    "\n"
   ]
  },
  {
   "cell_type": "markdown",
   "id": "4c4714b6",
   "metadata": {},
   "source": [
    "Ok, same result. \n",
    "\n",
    "Of course, there is also some preimplemented functionality for that in numpy that you should always use in \"real-life\": "
   ]
  },
  {
   "cell_type": "code",
   "execution_count": null,
   "id": "b9552b69",
   "metadata": {},
   "outputs": [],
   "source": [
    "def fit_ml_numpy(samples: np.ndarray) -> Tuple[np.ndarray, np.ndarray]:\n",
    "    \"\"\"\n",
    "    Gaussian Maximum Likelihood Estimator\n",
    "    :param samples: samples to fit on shape [num_samples x dimenson]\n",
    "    return: mean (shape: [dimension]) and covariance (shape: [dimension x dimension])\n",
    "    \"\"\"\n",
    "    return np.mean(samples, axis=0), np.cov(samples, rowvar=False, bias=True)\n",
    "\n",
    "mean, cov = fit_ml_numpy(samples=samples)\n",
    "print(\"mean:\", mean, \"\\ncovariance: \\n\", cov)\n"
   ]
  },
  {
   "cell_type": "markdown",
   "id": "d3562dcb",
   "metadata": {},
   "source": [
    "Again, same results... seems like we implemented it correctly!\n",
    "\n",
    "### Gaussian Density Function\n",
    "\n",
    "For further demonstration and to generate some nice plots, lets implement the Gaussian density function. \n",
    "Recall that the density of the Multivariate Gaussian Distribution is given by\n",
    "\n",
    "$$ p(x) = \\mathcal{N}\\left(x | \\mu, \\Sigma \\right) = \\dfrac{1}{\\sqrt{\\det \\left(2 \\pi \\Sigma\\right)}} \\exp\\left( - \\dfrac{(x-\\mu)^T \\Sigma^{-1} (x-\\mu)}{2}\\right) $$\n"
   ]
  },
  {
   "cell_type": "code",
   "execution_count": null,
   "id": "289d88dc",
   "metadata": {},
   "outputs": [],
   "source": [
    "def mvn_pdf(x, mu, sigma):\n",
    "    \"\"\"\n",
    "    Density of the Multivariate Normal Distribution\n",
    "    :param x: samples\n",
    "    :param mu: mean\n",
    "    :param sigma: covariance\n",
    "    :return p(x) with p(x) = N(mu, sigma)\n",
    "    \"\"\"\n",
    "    det = np.linalg.det(2 * np.pi * sigma)\n",
    "    norm_term = 1 / np.sqrt(det)\n",
    "\n",
    "    \n",
    "    diff = x - mu   # shape (n, d)\n",
    "    \n",
    "    t1 = np.linalg.solve(sigma, diff.T) # sigma of shape (d, d), diff.T of shape (d, n) -> t1 of shape(d, n)\n",
    "    t2 = t1.T * diff  \n",
    "    exp_term = np.sum(t2, axis=-1)\n",
    "        \n",
    "    return norm_term * np.exp(-0.5 * exp_term)"
   ]
  },
  {
   "cell_type": "markdown",
   "id": "fc0379b5",
   "metadata": {},
   "source": [
    "**Practical Aspect:** In practice you would never implement it like that, but stay\n",
    "in the log-domain. Also for numerically stable implementations of the multivariate normal density the symmetry and\n",
    "positive definitness of the covariance should be exploited by working with it's Cholesky decomposition."
   ]
  },
  {
   "cell_type": "code",
   "execution_count": null,
   "id": "8e1eba6b",
   "metadata": {},
   "outputs": [],
   "source": [
    "x_range = np.arange(-1.5, 3, 0.05)  # x range for plotting\n",
    "y_range = np.arange(-1, 7, 0.05)    # y range for plotting \n",
    "\n",
    "# generate a grid of 2d data points along which we will evaluate the density \n",
    "plt_grid = np.stack(np.meshgrid(x_range, y_range), axis=-1)\n",
    "print(\"Plot Grid Shape:\", plt_grid.shape)\n",
    "# flatten the grid so we can feed it to our function but remember the shape\n",
    "flat_plt_grid = np.reshape(plt_grid, [-1, 2])\n",
    "print(\"Flat Grid Shape:\", flat_plt_grid.shape)\n",
    "plt_grid_shape = plt_grid.shape[:2]\n",
    "\n",
    "flat_densities = mvn_pdf(x=flat_plt_grid, \n",
    "                         mu=mean,\n",
    "                         sigma=cov),\n",
    "\n",
    "# get the values back in shape\n",
    "densities = np.reshape(flat_densities, plt_grid_shape)\n",
    "\n",
    "# plot\n",
    "plt.contourf(plt_grid[..., 0], plt_grid[..., 1], densities, levels=10)\n",
    "plt.colorbar()\n",
    "\n",
    "s0 = plt.scatter(samples[..., 0], samples[..., 1], color=\"blue\")\n"
   ]
  },
  {
   "cell_type": "markdown",
   "id": "f0242075",
   "metadata": {},
   "source": [
    "Lets look at that in log space"
   ]
  },
  {
   "cell_type": "code",
   "execution_count": null,
   "id": "cf75e3d5",
   "metadata": {},
   "outputs": [],
   "source": [
    "plt.contourf(plt_grid[..., 0], plt_grid[..., 1], np.log(densities), levels=10)\n",
    "plt.colorbar()\n",
    "\n",
    "s0 = plt.scatter(samples[..., 0], samples[..., 1], color=\"blue\")"
   ]
  },
  {
   "cell_type": "markdown",
   "id": "db809de1",
   "metadata": {},
   "source": [
    "# Further Resources\n",
    "\n",
    "- http://scipy-lectures.org/\n",
    "- https://nbviewer.org/github/jrjohansson/scientific-python-lectures/tree/master/ (Especially https://nbviewer.org/github/jrjohansson/scientific-python-lectures/blob/master/Lecture-2-Numpy.ipynb)\n",
    "- ... just have a look yourself, there is plenty of resources out there. "
   ]
  },
  {
   "cell_type": "code",
   "execution_count": null,
   "id": "96f46786",
   "metadata": {},
   "outputs": [],
   "source": []
  },
  {
   "cell_type": "code",
   "execution_count": null,
   "id": "f47c3181",
   "metadata": {},
   "outputs": [],
   "source": []
  },
  {
   "cell_type": "code",
   "execution_count": null,
   "id": "1fceb285",
   "metadata": {},
   "outputs": [],
   "source": []
  },
  {
   "cell_type": "code",
   "execution_count": null,
   "id": "dfbaf74a",
   "metadata": {},
   "outputs": [],
   "source": []
  },
  {
   "cell_type": "code",
   "execution_count": null,
   "id": "2ae30af0",
   "metadata": {},
   "outputs": [],
   "source": []
  },
  {
   "cell_type": "code",
   "execution_count": null,
   "id": "afa933dc",
   "metadata": {},
   "outputs": [],
   "source": []
  },
  {
   "cell_type": "code",
   "execution_count": null,
   "id": "96b320b0",
   "metadata": {},
   "outputs": [],
   "source": []
  },
  {
   "cell_type": "code",
   "execution_count": null,
   "id": "67326d73",
   "metadata": {},
   "outputs": [],
   "source": []
  },
  {
   "cell_type": "code",
   "execution_count": null,
   "id": "10f4dee0",
   "metadata": {},
   "outputs": [],
   "source": []
  },
  {
   "cell_type": "code",
   "execution_count": null,
   "id": "438abd79",
   "metadata": {},
   "outputs": [],
   "source": []
  }
 ],
 "metadata": {
  "kernelspec": {
   "display_name": "Python 3",
   "language": "python",
   "name": "python3"
  },
  "language_info": {
   "codemirror_mode": {
    "name": "ipython",
    "version": 3
   },
   "file_extension": ".py",
   "mimetype": "text/x-python",
   "name": "python",
   "nbconvert_exporter": "python",
   "pygments_lexer": "ipython3",
   "version": "3.8.8"
  }
 },
 "nbformat": 4,
 "nbformat_minor": 5
}
